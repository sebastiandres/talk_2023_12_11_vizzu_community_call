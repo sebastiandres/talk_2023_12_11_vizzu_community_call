{
 "cells": [
  {
   "cell_type": "markdown",
   "metadata": {
    "slideshow": {
     "slide_type": "skip"
    }
   },
   "source": [
    "* Clear cell outputs\n",
    "* Use the correct background depending on the screen to be using\n",
    "* Edit properties on Edit/Edit metadata"
   ]
  },
  {
   "cell_type": "markdown",
   "metadata": {
    "slideshow": {
     "slide_type": "slide"
    }
   },
   "source": [
    "<div style=\"padding-top:25%\">\n",
    "    <div style=\"display: inline-block;  width: 10%;\">\n",
    "        <span></span>\n",
    "    </div>\n",
    "    <div style=\"display: inline-block;\">\n",
    "        <h1>\n",
    "            <span style=\"color:#d7332b\">VIZZU</span> Community Call\n",
    "        </h1>\n",
    "        <h3>\n",
    "            Sebastián Flores, December 11th, 2023\n",
    "            <br>\n",
    "            <span style=\"color:gray\">@sebastiandres</span>\n",
    "        </h3>\n",
    "    </div>\n",
    "    <div style=\"display: inline-block;  width: 10%;\">\n",
    "        <span></span>\n",
    "    </div>\n",
    "</div>"
   ]
  },
  {
   "cell_type": "markdown",
   "metadata": {
    "slideshow": {
     "slide_type": "slide"
    }
   },
   "source": [
    "<div style=\"padding-top:300px\">\n",
    "    <div style=\"display: inline-block;  width: 10%;\">\n",
    "        <span></span>\n",
    "    </div>\n",
    "    <div style=\"display: inline-block;  width: 65%;\">\n",
    "        <h1 style=\"color:#0864b4\">ABOUT ME</h1>\n",
    "    </div>\n",
    "    <div style=\"display: inline-block;  width: 20%;\">\n",
    "        <img src=\"images/seba_avatar_gmail.png\" alt=\"Avatar\">\n",
    "    </div>\n",
    "</div>\n"
   ]
  },
  {
   "cell_type": "markdown",
   "metadata": {
    "slideshow": {
     "slide_type": "slide"
    }
   },
   "source": [
    "### What do I do?\n",
    "\n",
    "<div style=\"padding-top:50px\">\n",
    "    <div style=\"display: inline-block;  width: 5%;\"></div>\n",
    "    <div style=\"display: inline-block;  width: 40%;\">\n",
    "        <h3>Day Job</h3>\n",
    "        <ul>\n",
    "            <li>Chief Data Officer en uPlanner</li>\n",
    "            <li>https://uplanner.com/</li>\n",
    "            <li>linkedin.com/in/sebastiandres/</li>\n",
    "            <br><br>\n",
    "        </ul>\n",
    "    </div>\n",
    "    <div style=\"display: inline-block;  width: 5%;\"></div>\n",
    "    <div style=\"display: inline-block;  width: 40%;\">\n",
    "        <h3>Collaborations</h3>\n",
    "        <ul>\n",
    "            <li>Python Chile</li>\n",
    "            <li>Vizzu</li>\n",
    "            <li>Streamlit</li>\n",
    "            <li>X/twitter: @sebastiandres</li>\n",
    "            <li>http://sebastiandres.xyz</li>\n",
    "        </ul>\n",
    "    </div>\n",
    "</div>"
   ]
  },
  {
   "cell_type": "markdown",
   "metadata": {
    "slideshow": {
     "slide_type": "slide"
    }
   },
   "source": [
    "<div style=\"padding-top:300px\">\n",
    "    <div style=\"display: inline-block;  width: 10%;\">\n",
    "        <span></span>\n",
    "    </div>\n",
    "    <div style=\"display: inline-block;  width: 65%;\">\n",
    "        <h1 style=\"color:#0864b4\">MY SANTA'S WISH LIST</h1>\n",
    "    </div>\n",
    "    <div style=\"display: inline-block;  width: 20%;\">\n",
    "        <img src=\"images/wishlist.png\" alt=\"wishlist\">\n",
    "    </div>    \n",
    "</div>\n"
   ]
  },
  {
   "cell_type": "markdown",
   "metadata": {
    "slideshow": {
     "slide_type": "skip"
    }
   },
   "source": [
    "### Wish #1\n",
    "Make every data scientist know about Vizzu so they have better tools to do vizzu-alization."
   ]
  },
  {
   "cell_type": "markdown",
   "metadata": {
    "slideshow": {
     "slide_type": "slide"
    }
   },
   "source": [
    "<div style=\"background-image: url(images/bg1.png); background-repeat: no-repeat; height: 100%\">\n",
    "    <div style=\"padding-top:250px;  border-color:red\">\n",
    "        <div style=\"display: inline-block; width: 20%;\">&nbsp;</div>\n",
    "        <div style=\"display: inline-block; width: 60%;\"><h2 style=\"text-align:center; color:#f7c948;\">Wish #1</h2></div>\n",
    "        <div style=\"display: inline-block; width: 10%;\">&nbsp;</div>\n",
    "    </div>\n",
    "    <div style=\"padding-top:100px\">\n",
    "            <div style=\"display: inline-block; width: 20%;\">&nbsp;</div>\n",
    "            <div style=\"display: inline-block; width: 60%;\">\n",
    "                <h4 style=\"text-align:center; color:white;\">Make every data scientist know about Vizzu\n",
    "                so they have better tools to do vizzu-alization.</h4>\n",
    "            </div>\n",
    "            <div style=\"display: inline-block; width: 10%;\">&nbsp;</div>\n",
    "    </div>\n",
    "    <div style=\"padding-top:500px;\">\n",
    "    </div>\n",
    "</div>"
   ]
  },
  {
   "cell_type": "markdown",
   "metadata": {
    "slideshow": {
     "slide_type": "skip"
    }
   },
   "source": [
    "### Wish #2\n",
    "Integrate `ipyvizzu` and `ipyvizzu-story` into a single library: `vizzu` that require less parenthesis."
   ]
  },
  {
   "cell_type": "markdown",
   "metadata": {
    "slideshow": {
     "slide_type": "slide"
    }
   },
   "source": [
    "<div style=\"background-image: url(images/bg2.png); background-repeat: no-repeat; height: 100%\">\n",
    "    <div style=\"padding-top:250px;  border-color:red\">\n",
    "        <div style=\"display: inline-block; width: 20%;\">&nbsp;</div>\n",
    "        <div style=\"display: inline-block; width: 60%;\"><h2 style=\"text-align:center; color:#f7c948;\">Wish #2</h2></div>\n",
    "        <div style=\"display: inline-block; width: 10%;\">&nbsp;</div>\n",
    "    </div>\n",
    "    <div style=\"padding-top:100px\">\n",
    "            <div style=\"display: inline-block; width: 20%;\">&nbsp;</div>\n",
    "            <div style=\"display: inline-block; width: 60%;\">\n",
    "                <h4 style=\"text-align:center; color:white;\">Integrate ipyvizzu and ipyvizzu-story into a single library named vizzu <br>(with waaaay less parenthesis).</h4>\n",
    "            </div>\n",
    "            <div style=\"display: inline-block; width: 10%;\">&nbsp;</div>\n",
    "    </div>\n",
    "    <div style=\"padding-top:500px;\">\n",
    "    </div>\n",
    "</div>"
   ]
  },
  {
   "cell_type": "code",
   "execution_count": null,
   "metadata": {
    "slideshow": {
     "slide_type": "skip"
    }
   },
   "outputs": [],
   "source": [
    "## Shared code\n",
    "import pandas as pd\n",
    "from ipyvizzu import Chart, Data, Config\n",
    "from ipyvizzustory import Story, Slide, Step\n",
    "\n",
    "df = pd.read_csv(\"https://ipyvizzu.vizzuhq.com/0.16/showcases/titanic/titanic.csv\")"
   ]
  },
  {
   "cell_type": "markdown",
   "metadata": {
    "slideshow": {
     "slide_type": "skip"
    }
   },
   "source": [
    "#### Before"
   ]
  },
  {
   "cell_type": "code",
   "execution_count": null,
   "metadata": {
    "slideshow": {
     "slide_type": "skip"
    }
   },
   "outputs": [],
   "source": [
    "# ipyvizzu (animation)\n",
    "data = Data()\n",
    "data.add_df(df)\n",
    "\n",
    "chart = Chart(width=\"640px\", height=\"360px\")\n",
    "chart.animate(data)\n",
    "\n",
    "chart.animate(Config({\"x\": \"Count\", \"y\": \"Sex\", \"label\": \"Count\",\n",
    "            \"title\": \"Passengers of the Titanic\",}))\n",
    "chart.animate(Config({\"x\": [\"Count\", \"Survived\"],\"label\": [\"Count\", \"Survived\"], \"color\": \"Survived\",}))\n",
    "chart.animate(Config({\"x\": \"Count\", \"y\": [\"Sex\", \"Survived\"]}))"
   ]
  },
  {
   "cell_type": "code",
   "execution_count": null,
   "metadata": {
    "slideshow": {
     "slide_type": "skip"
    }
   },
   "outputs": [],
   "source": [
    "# ipyvizzu-story (slides)\n",
    "data = Data()\n",
    "data.add_df(df)\n",
    "\n",
    "story = Story(data=data)\n",
    "\n",
    "slide1 = Slide(Step(Config({\"x\": \"Count\", \"y\": \"Sex\", \"label\": \"Count\",\n",
    "            \"title\": \"Passengers of the Titanic\",})))\n",
    "story.add_slide(slide1)\n",
    "\n",
    "slide2 = Slide(Step(Config({\"x\": [\"Count\", \"Survived\"],\"label\": [\"Count\", \"Survived\"], \"color\": \"Survived\",})))\n",
    "story.add_slide(slide2)\n",
    "\n",
    "slide3 = Slide(Step(Config({\"x\": \"Count\", \"y\": [\"Sex\", \"Survived\"]})))\n",
    "story.add_slide(slide3)\n",
    "\n",
    "story.play()"
   ]
  },
  {
   "cell_type": "markdown",
   "metadata": {
    "slideshow": {
     "slide_type": "skip"
    }
   },
   "source": [
    "##### After"
   ]
  },
  {
   "cell_type": "code",
   "execution_count": null,
   "metadata": {
    "slideshow": {
     "slide_type": "skip"
    }
   },
   "outputs": [],
   "source": [
    "import vizzu as vz\n",
    "\n",
    "viz = vizzu.\n",
    "..."
   ]
  },
  {
   "cell_type": "markdown",
   "metadata": {
    "slideshow": {
     "slide_type": "skip"
    }
   },
   "source": [
    "### Wish #3\n",
    "Add an `export_to_gif` and/or `export_to_movie` option to vizzu."
   ]
  },
  {
   "cell_type": "markdown",
   "metadata": {
    "slideshow": {
     "slide_type": "slide"
    }
   },
   "source": [
    "<div style=\"background-image: url(images/bg3.png); background-repeat: no-repeat; height: 100%\">\n",
    "    <div style=\"padding-top:250px;  border-color:red\">\n",
    "        <div style=\"display: inline-block; width: 20%;\">&nbsp;</div>\n",
    "        <div style=\"display: inline-block; width: 60%;\"><h2 style=\"text-align:center; color:#f7c948;\">Wish #3</h2></div>\n",
    "        <div style=\"display: inline-block; width: 10%;\">&nbsp;</div>\n",
    "    </div>\n",
    "    <div style=\"padding-top:100px\">\n",
    "            <div style=\"display: inline-block; width: 20%;\">&nbsp;</div>\n",
    "            <div style=\"display: inline-block; width: 60%;\">\n",
    "                <h4 style=\"text-align:center; color:white;\">Add an export_to_gif and/or export_to_movie option to vizzu.</h4>\n",
    "            </div>\n",
    "            <div style=\"display: inline-block; width: 10%;\">&nbsp;</div>\n",
    "    </div>\n",
    "    <div style=\"padding-top:500px;\">\n",
    "    </div>\n",
    "</div>"
   ]
  },
  {
   "cell_type": "markdown",
   "metadata": {
    "slideshow": {
     "slide_type": "skip"
    }
   },
   "source": [
    "#### Before"
   ]
  },
  {
   "cell_type": "markdown",
   "metadata": {
    "slideshow": {
     "slide_type": "skip"
    }
   },
   "source": [
    "#### After"
   ]
  },
  {
   "cell_type": "code",
   "execution_count": null,
   "metadata": {
    "slideshow": {
     "slide_type": "skip"
    }
   },
   "outputs": [],
   "source": [
    "viz.export_to_gif('animation.gif')"
   ]
  },
  {
   "cell_type": "code",
   "execution_count": null,
   "metadata": {
    "slideshow": {
     "slide_type": "skip"
    }
   },
   "outputs": [],
   "source": [
    "viz.export_to_movie('animation.mp4')"
   ]
  },
  {
   "cell_type": "markdown",
   "metadata": {
    "slideshow": {
     "slide_type": "skip"
    }
   },
   "source": [
    "### Wish #4\n",
    "Make vizzu not silently ignore errors."
   ]
  },
  {
   "cell_type": "markdown",
   "metadata": {
    "slideshow": {
     "slide_type": "slide"
    }
   },
   "source": [
    "<div style=\"background-image: url(images/bg4.png); background-repeat: no-repeat; height: 100%\">\n",
    "    <div style=\"padding-top:250px;  border-color:red\">\n",
    "        <div style=\"display: inline-block; width: 20%;\">&nbsp;</div>\n",
    "        <div style=\"display: inline-block; width: 60%;\"><h2 style=\"text-align:center; color:#f7c948;\">Wish #3</h2></div>\n",
    "        <div style=\"display: inline-block; width: 10%;\">&nbsp;</div>\n",
    "    </div>\n",
    "    <div style=\"padding-top:100px\">\n",
    "            <div style=\"display: inline-block; width: 20%;\">&nbsp;</div>\n",
    "            <div style=\"display: inline-block; width: 60%;\">\n",
    "                <h4 style=\"text-align:center; color:white;\">Make vizzu provide better error reporting when I break things.</h4>\n",
    "            </div>\n",
    "            <div style=\"display: inline-block; width: 10%;\">&nbsp;</div>\n",
    "    </div>\n",
    "    <div style=\"padding-top:500px;\">\n",
    "    </div>\n",
    "</div>"
   ]
  },
  {
   "cell_type": "markdown",
   "metadata": {
    "slideshow": {
     "slide_type": "skip"
    }
   },
   "source": [
    "#### Now (without error)"
   ]
  },
  {
   "cell_type": "code",
   "execution_count": null,
   "metadata": {
    "slideshow": {
     "slide_type": "skip"
    }
   },
   "outputs": [],
   "source": [
    "data = Data()\n",
    "data.add_df(df)\n",
    "\n",
    "chart = Chart(width=\"640px\", height=\"360px\")\n",
    "chart.animate(data)\n",
    "\n",
    "chart.animate(Config({\"x\": \"Count\", \"y\": \"Sex\", \"label\": \"Count\",\n",
    "            \"title\": \"Passengers of the Titanic\",}))\n",
    "chart.animate(Config({\"x\": [\"Count\", \"Survived\"],\"label\": [\"Count\", \"Survived\"], \"color\": \"Survived\",}))\n",
    "chart.animate(Config({\"x\": \"Count\", \"y\": [\"Sex\", \"Survived\"]}))"
   ]
  },
  {
   "cell_type": "markdown",
   "metadata": {
    "slideshow": {
     "slide_type": "skip"
    }
   },
   "source": [
    "#### Now (with error)"
   ]
  },
  {
   "cell_type": "code",
   "execution_count": null,
   "metadata": {
    "slideshow": {
     "slide_type": "skip"
    }
   },
   "outputs": [],
   "source": [
    "data = Data()\n",
    "data.add_df(df)\n",
    "\n",
    "chart = Chart(width=\"640px\", height=\"360px\")\n",
    "chart.animate(data)\n",
    "\n",
    "chart.animate(Config({\"x\": \"Count\", \"y\": \"sex\", \"label\": \"Count\", \"title\": \"Passengers of the Titanic\",}))\n",
    "chart.animate(Config({\"x\": [\"Count\", \"Survived\"],\"label\": [\"Count\", \"Survived\"], \"color\": \"Survived\",}))\n",
    "chart.animate(Config({\"x\": \"Count\", \"y\": [\"Sex\", \"Survived\"]}))"
   ]
  },
  {
   "cell_type": "markdown",
   "metadata": {
    "slideshow": {
     "slide_type": "slide"
    }
   },
   "source": [
    "<div style=\"background-image: url(images/bg5.png); background-repeat: no-repeat; height: 110%\">\n",
    "    <div style=\"padding-top:250px;  border-color:red\">\n",
    "        <div style=\"display: inline-block; width: 20%;\">&nbsp;</div>\n",
    "        <div style=\"display: inline-block; width: 60%;\"><h2 style=\"text-align:center; color:#f7c948;\"></h2></div>\n",
    "        <div style=\"display: inline-block; width: 10%;\">&nbsp;</div>\n",
    "    </div>\n",
    "    <div style=\"padding-top:100px\">\n",
    "            <div style=\"display: inline-block; width: 20%;\">&nbsp;</div>\n",
    "            <div style=\"display: inline-block; width: 60%;\">\n",
    "                <h4 style=\"text-align:center; color:white;\"></h4>\n",
    "            </div>\n",
    "            <div style=\"display: inline-block; width: 10%;\">&nbsp;</div>\n",
    "    </div>\n",
    "    <div style=\"padding-top:500px;\">\n",
    "    </div>\n",
    "</div>"
   ]
  },
  {
   "cell_type": "code",
   "execution_count": null,
   "metadata": {
    "slideshow": {
     "slide_type": "skip"
    }
   },
   "outputs": [],
   "source": []
  }
 ],
 "metadata": {
  "celltoolbar": "Slideshow",
  "kernelspec": {
   "display_name": "Python 3 (ipykernel)",
   "language": "python",
   "name": "python3"
  },
  "language_info": {
   "codemirror_mode": {
    "name": "ipython",
    "version": 3
   },
   "file_extension": ".py",
   "mimetype": "text/x-python",
   "name": "python",
   "nbconvert_exporter": "python",
   "pygments_lexer": "ipython3",
   "version": "3.11.1"
  },
  "rise": {
   "_transition_options": [
    "none",
    "fade",
    "slide",
    "convex",
    "concave",
    "zoom"
   ],
   "autolaunch": true,
   "center": false,
   "scroll": true,
   "theme": "simple",
   "transition": "slide",
   "z_enable_chalkboard": true,
   "z_footer": "<h3 style='margin-left:225px;margin-bottom:40px;color:grey;'>Sebastián Flores</h3>",
   "z_header": "<h3 style='margin-left:10px;color:grey;'>Vizzualización de Datos</h3>",
   "z_theme_options": [
    "black",
    "white",
    "league",
    "beige",
    "sky",
    "night",
    "serif"
   ]
  }
 },
 "nbformat": 4,
 "nbformat_minor": 4
}
