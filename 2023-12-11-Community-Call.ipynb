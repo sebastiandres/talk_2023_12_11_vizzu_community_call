{
 "cells": [
  {
   "cell_type": "markdown",
   "metadata": {
    "slideshow": {
     "slide_type": "skip"
    }
   },
   "source": [
    "* Clear cell outputs\n",
    "* Use the correct background depending on the screen to be using\n",
    "* Edit properties on Edit/Edit metadata"
   ]
  },
  {
   "cell_type": "markdown",
   "metadata": {
    "slideshow": {
     "slide_type": "slide"
    }
   },
   "source": [
    "<div style=\"padding-top:25%\">\n",
    "    <div style=\"display: inline-block;  width: 10%;\">\n",
    "        <span></span>\n",
    "    </div>\n",
    "    <div style=\"display: inline-block;\">\n",
    "        <h1>\n",
    "            <span style=\"color:#d7332b\">VIZZU</span> Community Call\n",
    "        </h1>\n",
    "        <h3>\n",
    "            Sebastián Flores, December 11th, 2023\n",
    "            <br>\n",
    "            <span style=\"color:gray\">@sebastiandres</span>\n",
    "        </h3>\n",
    "    </div>\n",
    "    <div style=\"display: inline-block;  width: 10%;\">\n",
    "        <span></span>\n",
    "    </div>\n",
    "</div>"
   ]
  },
  {
   "cell_type": "markdown",
   "metadata": {
    "slideshow": {
     "slide_type": "slide"
    }
   },
   "source": [
    "<div style=\"padding-top:500px\">\n",
    "    <div style=\"display: inline-block;  width: 10%;\">\n",
    "        <span></span>\n",
    "    </div>\n",
    "    <div style=\"display: inline-block;  width: 65%;\">\n",
    "        <h1 style=\"color:#0864b4\">ABOUT ME</h1>\n",
    "    </div>\n",
    "    <div style=\"display: inline-block;  width: 20%;\">\n",
    "        <img src=\"images/seba_avatar_gmail.png\" alt=\"Avatar\">\n",
    "    </div>\n",
    "</div>\n"
   ]
  },
  {
   "cell_type": "markdown",
   "metadata": {
    "slideshow": {
     "slide_type": "slide"
    }
   },
   "source": [
    "<div style=\"padding-top:200px\">\n",
    "    <div style=\"display: inline-block;  width: 10%;\">\n",
    "    </div>\n",
    "    <div style=\"display: inline-block;  width: 40%;\">\n",
    "        <h3>Day Job</h3>\n",
    "        <ul>\n",
    "            <li>Chief Data Officer en uPlanner</li>\n",
    "            <li>https://uplanner.com/</li>\n",
    "            <li>linkedin.com/in/sebastiandres/</li>\n",
    "            <br><br>\n",
    "        </ul>\n",
    "    </div>\n",
    "    <div style=\"display: inline-block;  width: 40%;\">\n",
    "        <h3>Collaborations</h3>\n",
    "        <ul>\n",
    "            <li>Python Chile</li>\n",
    "            <li>Streamlit</li>\n",
    "            <li>Vizzu</li>\n",
    "            <li>@sebastiandres</li>\n",
    "            <li>http://sebastiandres.xyz</li>\n",
    "        </ul>\n",
    "    </div>\n",
    "</div>"
   ]
  },
  {
   "cell_type": "markdown",
   "metadata": {
    "slideshow": {
     "slide_type": "slide"
    }
   },
   "source": [
    "<div style=\"padding-top:500px\">\n",
    "    <div style=\"display: inline-block;  width: 10%;\">\n",
    "        <span></span>\n",
    "    </div>\n",
    "    <div style=\"display: inline-block;  width: 65%;\">\n",
    "        <h1 style=\"color:#0864b4\">MY PRIVATE SANTA'S WISH LIST</h1>\n",
    "    </div>\n",
    "    <div style=\"display: inline-block;  width: 20%;\">\n",
    "        <img src=\"images/wishlist.png\" alt=\"wishlist\">\n",
    "    </div>    \n",
    "</div>\n"
   ]
  },
  {
   "cell_type": "markdown",
   "metadata": {
    "slideshow": {
     "slide_type": "slide"
    }
   },
   "source": [
    "<div style=\"background-image: url(images/bg2.png); background-repeat: no-repeat; background-size: contain; height: auto; width: 100%;\">\n",
    "    <div style=\"padding-top:200px\">\n",
    "    <h2 style=\"color:white\">Wish #1</h2>\n",
    "    <div style=\"padding-top:200px\">\n",
    "    <p style=\"color:white\">Make every data scientist know about Vizzu so they have better tools to do vizzu-alization.<p>\n",
    "    </div>\n",
    "    <div style=\"padding-top:200px\">\n",
    "    <div>\n",
    "</div>\n"
   ]
  },
  {
   "cell_type": "markdown",
   "metadata": {
    "slideshow": {
     "slide_type": "slide"
    }
   },
   "source": [
    "### Wish #2\n",
    "Integrate `ipyvizzu` and `ipyvizzu-story` into a single library: `vizzu` that require less parenthesis."
   ]
  },
  {
   "cell_type": "markdown",
   "metadata": {
    "slideshow": {
     "slide_type": "slide"
    }
   },
   "source": [
    "### Wish #3\n",
    "Add an `export_to_gif` and/or `export_to_movie` option to vizzu."
   ]
  },
  {
   "cell_type": "markdown",
   "metadata": {
    "slideshow": {
     "slide_type": "slide"
    }
   },
   "source": [
    "### Wish #4\n",
    "Make vizzu not silently ignore errors."
   ]
  },
  {
   "cell_type": "markdown",
   "metadata": {
    "slideshow": {
     "slide_type": "slide"
    }
   },
   "source": [
    "### Wish #5\n",
    "Integrate "
   ]
  },
  {
   "cell_type": "markdown",
   "metadata": {
    "slideshow": {
     "slide_type": "slide"
    }
   },
   "source": [
    "### Wish #6\n",
    "Integrate "
   ]
  }
 ],
 "metadata": {
  "celltoolbar": "Edit Metadata",
  "kernelspec": {
   "display_name": "Python 3 (ipykernel)",
   "language": "python",
   "name": "python3"
  },
  "language_info": {
   "codemirror_mode": {
    "name": "ipython",
    "version": 3
   },
   "file_extension": ".py",
   "mimetype": "text/x-python",
   "name": "python",
   "nbconvert_exporter": "python",
   "pygments_lexer": "ipython3",
   "version": "3.11.1"
  },
  "rise": {
   "_transition_options": [
    "none",
    "fade",
    "slide",
    "convex",
    "concave",
    "zoom"
   ],
   "autolaunch": true,
   "center": false,
   "scroll": true,
   "theme": "simple",
   "transition": "slide",
   "z_enable_chalkboard": true,
   "z_footer": "<h3 style='margin-left:225px;margin-bottom:40px;color:grey;'>Sebastián Flores</h3>",
   "z_header": "<h3 style='margin-left:10px;color:grey;'>Vizzualización de Datos</h3>",
   "z_theme_options": [
    "black",
    "white",
    "league",
    "beige",
    "sky",
    "night",
    "serif"
   ]
  }
 },
 "nbformat": 4,
 "nbformat_minor": 4
}
